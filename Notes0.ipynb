{
 "cells": [
  {
   "cell_type": "markdown",
   "metadata": {},
   "source": [
    "# MCS Coding to Solve Physics Problems 0"
   ]
  },
  {
   "cell_type": "markdown",
   "metadata": {},
   "source": [
    "## Introduction to Python"
   ]
  },
  {
   "cell_type": "markdown",
   "metadata": {},
   "source": [
    "#### Basics"
   ]
  },
  {
   "cell_type": "markdown",
   "metadata": {},
   "source": [
    "Welcome to Python! This will be fun... maybe.\n",
    "\n",
    "So, let's begin. Go to https://trinket.io/, create an account and start a python 3 programme!\n",
    "\n",
    "If you are already familiar with python skip to the end for the key points of these notes and check you're happy with those.\n",
    "\n",
    "Python is what is called a \"scripting language\". This means that you can do stuff in python without necessarily having to compile your code first. You *can* compile it, but you don't have to - you can directly use commands in the python shell and have them executed just by pressing \"enter\", no compiling required. We can do both by selecting the option *terminal* in the options by the play button on trinket. \n",
    "\n",
    "So how does that work? We can print something like this:"
   ]
  },
  {
   "cell_type": "code",
   "execution_count": 97,
   "metadata": {},
   "outputs": [
    {
     "name": "stdout",
     "output_type": "stream",
     "text": [
      "Hello!\n"
     ]
    }
   ],
   "source": [
    "print(\"Hello!\")"
   ]
  },
  {
   "cell_type": "markdown",
   "metadata": {},
   "source": [
    "You can also use python as a fancy version of a calculator. So, if you type in your python shell a simple mathematical command and press enter, python will calculate the answer for you:"
   ]
  },
  {
   "cell_type": "code",
   "execution_count": 98,
   "metadata": {},
   "outputs": [
    {
     "data": {
      "text/plain": [
       "7"
      ]
     },
     "execution_count": 98,
     "metadata": {},
     "output_type": "execute_result"
    }
   ],
   "source": [
    "3 + 4"
   ]
  },
  {
   "cell_type": "code",
   "execution_count": 99,
   "metadata": {},
   "outputs": [
    {
     "data": {
      "text/plain": [
       "78"
      ]
     },
     "execution_count": 99,
     "metadata": {},
     "output_type": "execute_result"
    }
   ],
   "source": [
    "100 - 22"
   ]
  },
  {
   "cell_type": "code",
   "execution_count": 100,
   "metadata": {},
   "outputs": [
    {
     "data": {
      "text/plain": [
       "2.5"
      ]
     },
     "execution_count": 100,
     "metadata": {},
     "output_type": "execute_result"
    }
   ],
   "source": [
    "5 / 2"
   ]
  },
  {
   "cell_type": "markdown",
   "metadata": {},
   "source": [
    "If we want to do some more complicated mathematical operation (as we often do in physics), we want to use a package called \"numpy\" in python, which is a very powerful and often-used library for numerical operations. This is how we tell python to use the numpy package:"
   ]
  },
  {
   "cell_type": "code",
   "execution_count": 101,
   "metadata": {},
   "outputs": [],
   "source": [
    "import numpy as np"
   ]
  },
  {
   "cell_type": "markdown",
   "metadata": {},
   "source": [
    "We could also just write \"import numpy\", but then we would have to type every time we want to use a function from numpy \"numpy.name_of_function\", whereas with the \"as np\" we save ourselves a bit of typing and just have to write \"np.name_of_function\". This is how it works:\n",
    "\n",
    "For example, the square root"
   ]
  },
  {
   "cell_type": "code",
   "execution_count": 102,
   "metadata": {},
   "outputs": [
    {
     "data": {
      "text/plain": [
       "1.4142135623730951"
      ]
     },
     "execution_count": 102,
     "metadata": {},
     "output_type": "execute_result"
    }
   ],
   "source": [
    "np.sqrt(2)"
   ]
  },
  {
   "cell_type": "markdown",
   "metadata": {},
   "source": [
    "Or, a number to the power of another numer (here, 2 to the power of 10):"
   ]
  },
  {
   "cell_type": "code",
   "execution_count": 103,
   "metadata": {},
   "outputs": [
    {
     "data": {
      "text/plain": [
       "1024"
      ]
     },
     "execution_count": 103,
     "metadata": {},
     "output_type": "execute_result"
    }
   ],
   "source": [
    "np.power(2, 10)"
   ]
  },
  {
   "cell_type": "markdown",
   "metadata": {},
   "source": [
    "### Arrays"
   ]
  },
  {
   "cell_type": "markdown",
   "metadata": {},
   "source": [
    "Numpy makes it really easy to use arrays. Remember, arrays are a convenient way to bundle numbers together and have them ordered in a certain way so that we can find each entry in the array by its \"house number\" or index.\n",
    "\n",
    "Let's say we want to create an array which contains the numbers 2, 4, 6, 8, 10. And we'll make our life easy by giving that array a name, say \"arr\", so that we can re-use that array at any time by typing \"arr\". Here's how that works:"
   ]
  },
  {
   "cell_type": "code",
   "execution_count": 104,
   "metadata": {},
   "outputs": [],
   "source": [
    "arr = np.array([2., 4., 6., 8., 10.])"
   ]
  },
  {
   "cell_type": "markdown",
   "metadata": {},
   "source": [
    "If we want to print that array to remind ourselves what the numbers inside it were, we do this:"
   ]
  },
  {
   "cell_type": "code",
   "execution_count": 105,
   "metadata": {},
   "outputs": [
    {
     "name": "stdout",
     "output_type": "stream",
     "text": [
      "[ 2.  4.  6.  8. 10.]\n"
     ]
    }
   ],
   "source": [
    "print(arr)"
   ]
  },
  {
   "cell_type": "markdown",
   "metadata": {},
   "source": [
    "Like in C, the numbering of the elements starts with house number 0 (not 1). So if we want to print the first element from the array, we do this (take care to use square brackets for this, otherwise python doesn't understand you):"
   ]
  },
  {
   "cell_type": "code",
   "execution_count": 106,
   "metadata": {},
   "outputs": [
    {
     "name": "stdout",
     "output_type": "stream",
     "text": [
      "2.0\n"
     ]
    }
   ],
   "source": [
    "print(arr[0])"
   ]
  },
  {
   "cell_type": "markdown",
   "metadata": {},
   "source": [
    "Here's a neat trick. How do you print the last element in an array? Our array has 5 elements, but because we are counting from 0, the last element actually has the index number 4."
   ]
  },
  {
   "cell_type": "code",
   "execution_count": 107,
   "metadata": {},
   "outputs": [
    {
     "name": "stdout",
     "output_type": "stream",
     "text": [
      "10.0\n"
     ]
    }
   ],
   "source": [
    "print(arr[4])"
   ]
  },
  {
   "cell_type": "markdown",
   "metadata": {},
   "source": [
    "But! Because python is awesome and your friend, you can also do this:"
   ]
  },
  {
   "cell_type": "code",
   "execution_count": 108,
   "metadata": {},
   "outputs": [
    {
     "name": "stdout",
     "output_type": "stream",
     "text": [
      "10.0\n"
     ]
    }
   ],
   "source": [
    "print(arr[-1])"
   ]
  },
  {
   "cell_type": "markdown",
   "metadata": {},
   "source": [
    "The index number \"-1\" will always give you the last element of an array, and you don't have to know how many elements there actually are in the array.\n",
    "\n",
    "If we want several numbers form the array, say the first to third element, we do this with a colon (:) like so:"
   ]
  },
  {
   "cell_type": "code",
   "execution_count": 109,
   "metadata": {},
   "outputs": [
    {
     "name": "stdout",
     "output_type": "stream",
     "text": [
      "[2. 4. 6.]\n"
     ]
    }
   ],
   "source": [
    "print(arr[0:3])"
   ]
  },
  {
   "cell_type": "markdown",
   "metadata": {},
   "source": [
    "Here are a few other very usefull numpy commands, some of which you will need in your first python assignment.\n",
    "\n",
    "This creates an array filled with zeros (and it will have as many zeros as the numbers you give in brackets):"
   ]
  },
  {
   "cell_type": "code",
   "execution_count": 110,
   "metadata": {},
   "outputs": [
    {
     "data": {
      "text/plain": [
       "array([0., 0., 0., 0., 0.])"
      ]
     },
     "execution_count": 110,
     "metadata": {},
     "output_type": "execute_result"
    }
   ],
   "source": [
    "np.zeros(5)"
   ]
  },
  {
   "cell_type": "markdown",
   "metadata": {},
   "source": [
    "If you want instead an array filled with ones:"
   ]
  },
  {
   "cell_type": "code",
   "execution_count": 111,
   "metadata": {},
   "outputs": [
    {
     "data": {
      "text/plain": [
       "array([1., 1., 1.])"
      ]
     },
     "execution_count": 111,
     "metadata": {},
     "output_type": "execute_result"
    }
   ],
   "source": [
    "np.ones(3)"
   ]
  },
  {
   "cell_type": "markdown",
   "metadata": {},
   "source": [
    "If you want an array filled with ascending numbers:"
   ]
  },
  {
   "cell_type": "code",
   "execution_count": 112,
   "metadata": {},
   "outputs": [
    {
     "data": {
      "text/plain": [
       "array([0, 1, 2, 3, 4, 5, 6, 7, 8, 9])"
      ]
     },
     "execution_count": 112,
     "metadata": {},
     "output_type": "execute_result"
    }
   ],
   "source": [
    "np.arange(10)"
   ]
  },
  {
   "cell_type": "markdown",
   "metadata": {},
   "source": [
    "The np.arange command will give you the numbers *up to, but not including to* the number that you specify in the brackets."
   ]
  },
  {
   "cell_type": "markdown",
   "metadata": {},
   "source": [
    "And if you want an array with ascending numbers from 3 to 11:"
   ]
  },
  {
   "cell_type": "code",
   "execution_count": 113,
   "metadata": {},
   "outputs": [
    {
     "data": {
      "text/plain": [
       "array([ 3,  4,  5,  6,  7,  8,  9, 10, 11])"
      ]
     },
     "execution_count": 113,
     "metadata": {},
     "output_type": "execute_result"
    }
   ],
   "source": [
    "np.arange(3, 12)"
   ]
  },
  {
   "cell_type": "markdown",
   "metadata": {},
   "source": [
    "If you want an array where the difference between the subsequent numbers is different than 1, you can do this:"
   ]
  },
  {
   "cell_type": "code",
   "execution_count": 114,
   "metadata": {},
   "outputs": [
    {
     "data": {
      "text/plain": [
       "array([2. , 2.1, 2.2, 2.3, 2.4, 2.5, 2.6, 2.7])"
      ]
     },
     "execution_count": 114,
     "metadata": {},
     "output_type": "execute_result"
    }
   ],
   "source": [
    "np.arange(2, 2.8, 0.1)"
   ]
  },
  {
   "cell_type": "markdown",
   "metadata": {},
   "source": [
    "To create an array with, say, 5 linearly spaced numbers between the values 1 and 10:"
   ]
  },
  {
   "cell_type": "code",
   "execution_count": 115,
   "metadata": {},
   "outputs": [
    {
     "data": {
      "text/plain": [
       "array([  1.  ,  25.75,  50.5 ,  75.25, 100.  ])"
      ]
     },
     "execution_count": 115,
     "metadata": {},
     "output_type": "execute_result"
    }
   ],
   "source": [
    "np.linspace(1, 100, 5)"
   ]
  },
  {
   "cell_type": "markdown",
   "metadata": {},
   "source": [
    "To create an array with 5 *logarithmically* spaced numbers between the values 10^1 and 10^10:"
   ]
  },
  {
   "cell_type": "code",
   "execution_count": 116,
   "metadata": {},
   "outputs": [
    {
     "data": {
      "text/plain": [
       "array([1.00000000e+01, 1.77827941e+03, 3.16227766e+05, 5.62341325e+07,\n",
       "       1.00000000e+10])"
      ]
     },
     "execution_count": 116,
     "metadata": {},
     "output_type": "execute_result"
    }
   ],
   "source": [
    "np.logspace(1, 10, 5)"
   ]
  },
  {
   "cell_type": "markdown",
   "metadata": {},
   "source": [
    "You can manipulate arrays very easily in python. For example, if you have an array with some numbers in it, and you want to multiply every number in the array by a factor of 2. Here's how that works in python:"
   ]
  },
  {
   "cell_type": "markdown",
   "metadata": {},
   "source": [
    "First we create the array:"
   ]
  },
  {
   "cell_type": "code",
   "execution_count": 117,
   "metadata": {},
   "outputs": [
    {
     "name": "stdout",
     "output_type": "stream",
     "text": [
      "[ 2  3  4  5  6  7  8  9 10 11]\n"
     ]
    }
   ],
   "source": [
    "arr = np.arange(2,12)\n",
    "\n",
    "print(arr)\n"
   ]
  },
  {
   "cell_type": "markdown",
   "metadata": {},
   "source": [
    "Then we make the new array with the multiplied values:"
   ]
  },
  {
   "cell_type": "code",
   "execution_count": 118,
   "metadata": {},
   "outputs": [
    {
     "name": "stdout",
     "output_type": "stream",
     "text": [
      "[ 4  6  8 10 12 14 16 18 20 22]\n"
     ]
    }
   ],
   "source": [
    "newarr = 2 * arr\n",
    "\n",
    "print(newarr)\n"
   ]
  },
  {
   "cell_type": "markdown",
   "metadata": {},
   "source": [
    "Doddle"
   ]
  },
  {
   "cell_type": "markdown",
   "metadata": {},
   "source": [
    "### Functions"
   ]
  },
  {
   "cell_type": "markdown",
   "metadata": {
    "collapsed": true
   },
   "source": [
    "Now we get to some real coding. We'll write a function that does something! Say we want to write a function that calculates the cubic root of a number. I.e. it calculates X to the power of 1/3. The Python way of writing \"to the power of\" is two stars: **. So in practice it looks like this:"
   ]
  },
  {
   "cell_type": "code",
   "execution_count": 119,
   "metadata": {},
   "outputs": [
    {
     "name": "stdout",
     "output_type": "stream",
     "text": [
      "3.0\n"
     ]
    }
   ],
   "source": [
    "print(27**(1./3.))"
   ]
  },
  {
   "cell_type": "markdown",
   "metadata": {
    "collapsed": true
   },
   "source": [
    "Now to make that into a function is quite straightforward in Python. We don;t need any brackets or so to indicate where the beginning and end of the calculations inside the function is, we just use *indentation* (i.e. whitespace, specifically hitting the space bar 4 times).\n",
    "\n",
    "This has the advantage that the code becomes easily readable for humans. So, remember, indent = 4 times space bar.\n",
    "\n",
    "Here are the important bits about Python functions:\n",
    "\n",
    "  * They start with \"def\", then comes the name you have chosen for the function, and then in round brackets the name of the input variable, then a colon.\n",
    "  * The next lines, where you actually have the function calculate something, needs to start with 4 white spaces.\n",
    "  * You explicitly tell the function which value is the output value with \"return\" and then the name of the output.\n",
    "\n",
    "Here's what that can look like:"
   ]
  },
  {
   "cell_type": "code",
   "execution_count": 120,
   "metadata": {},
   "outputs": [],
   "source": [
    "def cubicroot(x):\n",
    "    result = x**(1./3.)\n",
    "    return result\n"
   ]
  },
  {
   "cell_type": "markdown",
   "metadata": {},
   "source": [
    "Now if we want to let the function calculate something, we \"call\" the function with some value for the input variable:"
   ]
  },
  {
   "cell_type": "code",
   "execution_count": 121,
   "metadata": {},
   "outputs": [
    {
     "name": "stdout",
     "output_type": "stream",
     "text": [
      "9.999999999999998\n"
     ]
    }
   ],
   "source": [
    "print(cubicroot(1000))"
   ]
  },
  {
   "cell_type": "markdown",
   "metadata": {},
   "source": [
    "As a side note, if you write a hashtag (#), then everything after the hashtag in that same line is not executed as a command, but it is just a comment.\n",
    "\n",
    "As an example, we could also have written our cubic root function like this, and it would do exactly the same thing:"
   ]
  },
  {
   "cell_type": "code",
   "execution_count": 122,
   "metadata": {},
   "outputs": [
    {
     "name": "stdout",
     "output_type": "stream",
     "text": [
      "2.2894284851066637\n"
     ]
    }
   ],
   "source": [
    "# I'm being super verbose in this example with my function and variable names\n",
    "\n",
    "def this_is_my_cubicroot_function(my_variable):\n",
    "    exponent = 1./3. # I'm using an extra line to calculate the exponent I need in the next line\n",
    "    my_calculated_output = my_variable**exponent # and here I insert the exponent\n",
    "    a = 5 # here I do some extra stuff that I don't really need, but it doesn't make a difference\n",
    "    b = 13.4\n",
    "    return my_calculated_output # because I make the function only return the relevant output\n",
    "\n",
    "print(this_is_my_cubicroot_function(12))"
   ]
  },
  {
   "cell_type": "markdown",
   "metadata": {},
   "source": [
    "Above we see again that there is no special \"ending character\" for a function. We just don't indent the line for the \"print this_is_my_cubicroot_function(12)\" commmand, and this tells Python that this is not part of the function any more."
   ]
  },
  {
   "cell_type": "markdown",
   "metadata": {},
   "source": [
    "### If-then-else"
   ]
  },
  {
   "cell_type": "markdown",
   "metadata": {},
   "source": [
    "Let's use if-then-else to figure out if numbers are positive or negative. We can do that with the \"if\" statement. Python only does the thing mentioned after the \"if\" statement if the \"if\" statement is correct, otherwiese it doesn't do it."
   ]
  },
  {
   "cell_type": "code",
   "execution_count": 123,
   "metadata": {},
   "outputs": [
    {
     "name": "stdout",
     "output_type": "stream",
     "text": [
      "Number is positive.\n"
     ]
    }
   ],
   "source": [
    "mynumber = 3\n",
    "\n",
    "if mynumber >= 0: # Python checks if this is a true statement\n",
    "    print(\"Number is positive.\")\n"
   ]
  },
  {
   "cell_type": "markdown",
   "metadata": {},
   "source": [
    "Now, let's figure out how to calculate the absolute value of a number. This means we need the program to make a choice: if the input number is positive or 0, the absolute value is the same as the input, but if it is negative, the absolute value is the input multiplied by (-1).\n",
    "\n",
    "This is how Python does if-then-else:\n"
   ]
  },
  {
   "cell_type": "code",
   "execution_count": 124,
   "metadata": {},
   "outputs": [
    {
     "name": "stdout",
     "output_type": "stream",
     "text": [
      "5\n"
     ]
    }
   ],
   "source": [
    "\n",
    "mynumber = -5\n",
    "\n",
    "if mynumber >= 0: # Python checks if this is a true statement\n",
    "    print(mynumber) # if yes, Python executes this indented part\n",
    "else: # else (if the statement above was not true)\n",
    "    print (mynumber * (-1)) # Python executes this indented part.\n"
   ]
  },
  {
   "cell_type": "markdown",
   "metadata": {},
   "source": [
    "Note that again 4 whitespaces are used to indicate what belongs inside the if or the else statement. And there is no explicit \"then\" necessary in Python!\n",
    "\n",
    "Now let's make that a bit neater and put it into a function."
   ]
  },
  {
   "cell_type": "code",
   "execution_count": 125,
   "metadata": {},
   "outputs": [
    {
     "name": "stdout",
     "output_type": "stream",
     "text": [
      "100\n"
     ]
    }
   ],
   "source": [
    "def absolute(mynumber):\n",
    "    if mynumber >= 0:\n",
    "        outputnumber = mynumber\n",
    "    else:\n",
    "        outputnumber = mynumber * (-1)\n",
    "    return outputnumber\n",
    "\n",
    "print(absolute(-100))"
   ]
  },
  {
   "cell_type": "markdown",
   "metadata": {},
   "source": [
    "Now here's an important thing with if-then-else: take care to cover all cases! So, let's say you want a function to calculate some stuff based on the input value, but you forget to mention all possible cases:"
   ]
  },
  {
   "cell_type": "code",
   "execution_count": 126,
   "metadata": {},
   "outputs": [
    {
     "ename": "UnboundLocalError",
     "evalue": "local variable 'outputnumber' referenced before assignment",
     "output_type": "error",
     "traceback": [
      "\u001b[1;31m---------------------------------------------------------------------------\u001b[0m",
      "\u001b[1;31mUnboundLocalError\u001b[0m                         Traceback (most recent call last)",
      "\u001b[1;32m<ipython-input-126-eaaa60d2561b>\u001b[0m in \u001b[0;36m<module>\u001b[1;34m\u001b[0m\n\u001b[0;32m      6\u001b[0m     \u001b[1;32mreturn\u001b[0m \u001b[0moutputnumber\u001b[0m\u001b[1;33m\u001b[0m\u001b[1;33m\u001b[0m\u001b[0m\n\u001b[0;32m      7\u001b[0m \u001b[1;33m\u001b[0m\u001b[0m\n\u001b[1;32m----> 8\u001b[1;33m \u001b[0mprint\u001b[0m\u001b[1;33m(\u001b[0m\u001b[0mabsolute\u001b[0m\u001b[1;33m(\u001b[0m\u001b[1;33m-\u001b[0m\u001b[1;36m1\u001b[0m\u001b[1;33m)\u001b[0m\u001b[1;33m)\u001b[0m\u001b[1;33m\u001b[0m\u001b[1;33m\u001b[0m\u001b[0m\n\u001b[0m",
      "\u001b[1;32m<ipython-input-126-eaaa60d2561b>\u001b[0m in \u001b[0;36mabsolute\u001b[1;34m(mynumber)\u001b[0m\n\u001b[0;32m      4\u001b[0m     \u001b[1;32mif\u001b[0m \u001b[0mmynumber\u001b[0m \u001b[1;33m<\u001b[0m \u001b[1;33m-\u001b[0m\u001b[1;36m6\u001b[0m\u001b[1;33m:\u001b[0m \u001b[1;31m# So we haven't specified what Python should do if the number is between -6 and 0.\u001b[0m\u001b[1;33m\u001b[0m\u001b[1;33m\u001b[0m\u001b[0m\n\u001b[0;32m      5\u001b[0m         \u001b[0moutputnumber\u001b[0m \u001b[1;33m=\u001b[0m \u001b[0mmynumber\u001b[0m \u001b[1;33m*\u001b[0m \u001b[1;33m(\u001b[0m\u001b[1;33m-\u001b[0m\u001b[1;36m1\u001b[0m\u001b[1;33m)\u001b[0m\u001b[1;33m\u001b[0m\u001b[1;33m\u001b[0m\u001b[0m\n\u001b[1;32m----> 6\u001b[1;33m     \u001b[1;32mreturn\u001b[0m \u001b[0moutputnumber\u001b[0m\u001b[1;33m\u001b[0m\u001b[1;33m\u001b[0m\u001b[0m\n\u001b[0m\u001b[0;32m      7\u001b[0m \u001b[1;33m\u001b[0m\u001b[0m\n\u001b[0;32m      8\u001b[0m \u001b[0mprint\u001b[0m\u001b[1;33m(\u001b[0m\u001b[0mabsolute\u001b[0m\u001b[1;33m(\u001b[0m\u001b[1;33m-\u001b[0m\u001b[1;36m1\u001b[0m\u001b[1;33m)\u001b[0m\u001b[1;33m)\u001b[0m\u001b[1;33m\u001b[0m\u001b[1;33m\u001b[0m\u001b[0m\n",
      "\u001b[1;31mUnboundLocalError\u001b[0m: local variable 'outputnumber' referenced before assignment"
     ]
    }
   ],
   "source": [
    "def absolute(mynumber):\n",
    "    if mynumber >= 0:\n",
    "        outputnumber = mynumber\n",
    "    if mynumber < -6: # So we haven't specified what Python should do if the number is between -6 and 0.\n",
    "        outputnumber = mynumber * (-1)\n",
    "    return outputnumber\n",
    "\n",
    "print(absolute(-1))"
   ]
  },
  {
   "cell_type": "markdown",
   "metadata": {},
   "source": [
    "So we get an error. Always remember to cover all possible cases with if-then-else!\n",
    "\n",
    "Now let's say we want to make it a bit more complicated, and we want our function to return 1 divided by the absolute value of the input number, *unless* the input number is zero. Then the result would be infinity, and we want the function to print a warning instead of trying to calculate the value.\n",
    "\n",
    "This means we need to check 3 conditions, positive, negative, and equal to zero. We can use the \"elif\" statement for that, which is short for \"else if\":"
   ]
  },
  {
   "cell_type": "code",
   "execution_count": 127,
   "metadata": {},
   "outputs": [
    {
     "name": "stdout",
     "output_type": "stream",
     "text": [
      "You are trying to divide by zero!\n",
      "nan\n"
     ]
    }
   ],
   "source": [
    "def divide_by_absolute(mynumber):\n",
    "    if mynumber > 0:\n",
    "        outputnumber = 1. / mynumber\n",
    "    elif mynumber <0:\n",
    "        outputnumber = -1 / mynumber\n",
    "    else:\n",
    "        print ('You are trying to divide by zero!')\n",
    "        outputnumber = np.nan # This means 'Not a number' and is a placeholder for values like infinity.\n",
    "    return outputnumber\n",
    "\n",
    "print(divide_by_absolute(0))"
   ]
  },
  {
   "cell_type": "markdown",
   "metadata": {},
   "source": [
    "That's it!"
   ]
  },
  {
   "cell_type": "markdown",
   "metadata": {},
   "source": [
    "### Loops"
   ]
  },
  {
   "cell_type": "markdown",
   "metadata": {},
   "source": [
    "Loops are done with the \"for\" command in Python. We tell Python how often we want a thing done, and then what exactly we want done. Again, we use indentation to tell Python what is part is the loop and what isn't. \n",
    "\n",
    "A simple example is this: We tell Python to calculate the sum of the natural numbers from 1 to 10:"
   ]
  },
  {
   "cell_type": "code",
   "execution_count": 128,
   "metadata": {},
   "outputs": [
    {
     "name": "stdout",
     "output_type": "stream",
     "text": [
      "55\n"
     ]
    }
   ],
   "source": [
    "\n",
    "result = 0 # this is where we start (sum of zero numbers is zero)\n",
    "\n",
    "for i in np.arange(1,11): # remember, np.arange(1,11) is the numbers [1,2,3,4,5,6,7,8,9,10]\n",
    "    result = result + i\n",
    "\n",
    "print(result)"
   ]
  },
  {
   "cell_type": "markdown",
   "metadata": {},
   "source": [
    "This is such an easy example that we can actually check by hand if the result is correct:"
   ]
  },
  {
   "cell_type": "code",
   "execution_count": 129,
   "metadata": {},
   "outputs": [
    {
     "name": "stdout",
     "output_type": "stream",
     "text": [
      "55\n"
     ]
    }
   ],
   "source": [
    "print(1+2+3+4+5+6+7+8+9+10)"
   ]
  },
  {
   "cell_type": "markdown",
   "metadata": {},
   "source": [
    "Looks like we've done it right.\n",
    "\n",
    "Now let's say we package that into a function, and the function gets two input variables: the number we want to start the addition with, and the last number we want to add. What would that look like?"
   ]
  },
  {
   "cell_type": "code",
   "execution_count": 130,
   "metadata": {},
   "outputs": [
    {
     "name": "stdout",
     "output_type": "stream",
     "text": [
      "55\n",
      "14\n"
     ]
    }
   ],
   "source": [
    "def number_adder(firstnumber, lastnumber):\n",
    "    result = 0\n",
    "    for i in np.arange(firstnumber, lastnumber + 1):\n",
    "        result = result + i\n",
    "    return result\n",
    "\n",
    "print(number_adder(1, 10))\n",
    "print(number_adder(2, 5))"
   ]
  },
  {
   "cell_type": "markdown",
   "metadata": {},
   "source": [
    "Works!"
   ]
  },
  {
   "cell_type": "markdown",
   "metadata": {},
   "source": [
    "### Plots"
   ]
  },
  {
   "cell_type": "markdown",
   "metadata": {},
   "source": [
    "One of the strengths of python is that it is quite easy to have your data (say, your measurements) organized in arrays and then plot those in a nice viewgraph.\n",
    "\n",
    "To do plotting in python, we use the library \"matplotlib.pyplot\", and again load the library with a convenient shortcut so that we have to do less typing further down the road:"
   ]
  },
  {
   "cell_type": "code",
   "execution_count": 131,
   "metadata": {},
   "outputs": [],
   "source": [
    "import matplotlib.pyplot as plt"
   ]
  },
  {
   "cell_type": "markdown",
   "metadata": {},
   "source": [
    "Now let's define some data as the stuff that will go on the X axis of our plot, and some other data that will go on the Y axis.\n",
    "\n",
    "Let's say our x values are integers between 0 and 10:"
   ]
  },
  {
   "cell_type": "code",
   "execution_count": 132,
   "metadata": {},
   "outputs": [
    {
     "name": "stdout",
     "output_type": "stream",
     "text": [
      "[0 1 2 3 4 5 6 7 8 9]\n"
     ]
    }
   ],
   "source": [
    "x = np.arange(0, 10)\n",
    "print(x)"
   ]
  },
  {
   "cell_type": "markdown",
   "metadata": {},
   "source": [
    "And let's say our y values are the the x values to the power of two:"
   ]
  },
  {
   "cell_type": "code",
   "execution_count": 133,
   "metadata": {},
   "outputs": [
    {
     "name": "stdout",
     "output_type": "stream",
     "text": [
      "[ 0  1  4  9 16 25 36 49 64 81]\n"
     ]
    }
   ],
   "source": [
    "y = x**2\n",
    "print(y)"
   ]
  },
  {
   "cell_type": "markdown",
   "metadata": {},
   "source": [
    "Now we want to plot the x and y data. First we tell python to make a new figure with the \"plt.figure()\" command; for now it doesn't do much, but it can become important when you are making multiple figures and you want to start a fresh plot eachtime and not overplot on the old one. After making the empty figure, we plot the x and y data with the \"plt.plot\" command."
   ]
  },
  {
   "cell_type": "markdown",
   "metadata": {},
   "source": [
    "So far we don't see anything. But python has prepared the plot in the background, and it will show us the plot in a new window if we issue this command:"
   ]
  },
  {
   "cell_type": "code",
   "execution_count": 135,
   "metadata": {},
   "outputs": [],
   "source": [
    "plt.show()"
   ]
  },
  {
   "cell_type": "markdown",
   "metadata": {},
   "source": [
    "You can zoom around in the plot, or return to the original view by clicking the little button with the house, or save it.\n",
    "\n",
    "Because the whole clicking around thing becomes a bit tedious, we can instead issue some extra commands to adjust the plot before we show it:"
   ]
  },
  {
   "cell_type": "markdown",
   "metadata": {},
   "source": [
    "We can copy the following into the main.py tab and click run to create our programme"
   ]
  },
  {
   "cell_type": "code",
   "execution_count": 136,
   "metadata": {},
   "outputs": [
    {
     "data": {
      "image/png": "[encoded data removed]",
      "text/plain": [
       "<Figure size 432x288 with 1 Axes>"
      ]
     },
     "metadata": {
      "needs_background": "light"
     },
     "output_type": "display_data"
    }
   ],
   "source": [
    "import matplotlib.pyplot as plt\n",
    "import numpy as np\n",
    "x = np.arange(0, 10)\n",
    "y = x**2\n",
    "plt.plot(x, y, 'o') # this plots only circular markes, but no lines\n",
    "plt.plot(x, 1.1*y, '-o') # this plots markers and lines\n",
    "plt.plot(x, 0.9*y, '--') # this plots a dashed lines instead of a solid line\n",
    "plt.axis([3, 10, 0, 100]) # this zooms into a certain part of the plot (x_start, x_end, y_start, y_end)\n",
    "plt.show()"
   ]
  },
  {
   "cell_type": "markdown",
   "metadata": {},
   "source": [
    "As you can see, matplotlib automatically chooses a new colour if you plot a new thing into the same plot. You can also directly control which colour you want to use with these abbreviations:\n",
    "\n",
    "- 'b' = blue\n",
    "- 'g' = green\n",
    "- 'r' = red\n",
    "- 'y' = yellow\n",
    "- 'c' = cyan\n",
    "- 'm' = magenta\n",
    "- 'k' = black\n",
    "- 'w' = white\n",
    "\n",
    "And some different markers:\n",
    "\n",
    "- 'o' for a big circle\n",
    "- '.' for a small circle\n",
    "- 's' for a square\n",
    "- '\\*' for a star\n",
    "- '+' for a plus sign\n",
    "- and many more\n",
    "\n",
    "And there are various line styles to use:\n",
    "\n",
    "- '-' for a solid line\n",
    "- '--' for a dashed line\n",
    "- ':' for a dotted line\n",
    "- '-.' for a dash-dotted line\n",
    "- and just the marker symbol, but no symbol for the line to have only the markers.\n",
    "\n",
    "\n",
    "Here is an example how to use that:"
   ]
  },
  {
   "cell_type": "code",
   "execution_count": 137,
   "metadata": {
    "scrolled": true
   },
   "outputs": [
    {
     "data": {
      "image/png": "[encoded data removed]",
      "text/plain": [
       "<Figure size 576x432 with 1 Axes>"
      ]
     },
     "metadata": {
      "needs_background": "light"
     },
     "output_type": "display_data"
    }
   ],
   "source": [
    "plt.figure(figsize=(8,6))\n",
    "plt.plot(x, 0.1*y, 'b-')\n",
    "plt.plot(x, 0.2*y, 'g-o')\n",
    "plt.plot(x, 0.3*y, 'y--*')\n",
    "plt.plot(x, 0.4*y, 'r.')\n",
    "plt.plot(x, 0.5*y, 'm-.')\n",
    "plt.plot(x, 0.6*y, 'ws')\n",
    "plt.plot(x, 0.7*y, 'k:+')\n",
    "plt.show()\n"
   ]
  },
  {
   "cell_type": "markdown",
   "metadata": {},
   "source": [
    "## Key Points from Session 1"
   ]
  },
  {
   "cell_type": "markdown",
   "metadata": {},
   "source": [
    "3 concepts:\n",
    "\n",
    "- arrays\n",
    "\n",
    "- functions\n",
    "\n",
    "- control flow:\n",
    "    - loops (\"for\")\n",
    "    - choices (\"if-then-else\")\n"
   ]
  },
  {
   "cell_type": "markdown",
   "metadata": {},
   "source": [
    "### Arrays\n",
    "\n",
    "What is an array? Basically, it is a list of things. Very often these things are numbers. So an example for an array is a list of all student numbers of students enrolled in a course. Say there are only 3 students enrolled, and they have the student numbers 5001, 6023, and 3098.\n",
    "\n"
   ]
  },
  {
   "cell_type": "code",
   "execution_count": 138,
   "metadata": {},
   "outputs": [],
   "source": [
    "stnumber = [5001, 6023, 3098]"
   ]
  },
  {
   "cell_type": "markdown",
   "metadata": {},
   "source": [
    "\n",
    "We can now access the individual student numbers by their position in the array. For most programming languages (such as C and Python), these house numbers start with the number 0. So, the first student number is:\n",
    "\n",
    "stnumber[0]\n",
    "\n",
    "and the second one is\n",
    "\n",
    "stnumber[1]\n",
    "\n",
    "and so on.\n",
    "\n",
    "So if we want to access the first student number, we write something like this in Python:\n"
   ]
  },
  {
   "cell_type": "code",
   "execution_count": 139,
   "metadata": {},
   "outputs": [
    {
     "name": "stdout",
     "output_type": "stream",
     "text": [
      "5001\n"
     ]
    }
   ],
   "source": [
    "print(stnumber[0])"
   ]
  },
  {
   "cell_type": "markdown",
   "metadata": {},
   "source": [
    "and the output will be \"5001\".\n"
   ]
  },
  {
   "cell_type": "markdown",
   "metadata": {},
   "source": [
    "### Functions\n",
    "\n",
    "What is a function? A function is a piece of code that takes some input, does something with the input, and then gives you an output. A function is like a little program inside the program, so to say. In analogy to mathematical equations, we can call the input we give the function \"variables\" (and the output would be the \"result\"). \n",
    "\n",
    "As an example, we can write a function that calculates something:\n"
   ]
  },
  {
   "cell_type": "code",
   "execution_count": 140,
   "metadata": {},
   "outputs": [],
   "source": [
    "def myfunction(x):\n",
    "    y = x*3 + 0.1/x\n",
    "    return y"
   ]
  },
  {
   "cell_type": "markdown",
   "metadata": {},
   "source": [
    "\n",
    "\n",
    "This function takes a number x, calculates some number y from that according to the equation inside the function, and gives you back what it calculated for y.\n",
    "\n",
    "So if we wanted the function to calculate the result for x=100, we would \"call\" the function like this:\n",
    "\n"
   ]
  },
  {
   "cell_type": "code",
   "execution_count": 141,
   "metadata": {},
   "outputs": [
    {
     "name": "stdout",
     "output_type": "stream",
     "text": [
      "300.001\n"
     ]
    }
   ],
   "source": [
    "print(myfunction(100))"
   ]
  },
  {
   "cell_type": "markdown",
   "metadata": {},
   "source": [
    "Or if we wanted the result for x=-3, we would call the function like this:\n"
   ]
  },
  {
   "cell_type": "code",
   "execution_count": 142,
   "metadata": {},
   "outputs": [
    {
     "name": "stdout",
     "output_type": "stream",
     "text": [
      "-9.033333333333333\n"
     ]
    }
   ],
   "source": [
    "print(myfunction(-3))"
   ]
  },
  {
   "cell_type": "markdown",
   "metadata": {},
   "source": [
    "### Control flow\n",
    "\n",
    "Control flow is the order in which commands in a program are executed. If we don't do anything fancy, the program will just start executing the command in the first line, then go to the next line and so on until it reaches the end.\n",
    "\n",
    "Two very common things we use in programming to make our life easier are Loops and Choices.\n",
    "\n",
    "Let's start with **loops**.\n",
    "\n",
    "So let's say we want to print the result of our function from above for all numbers from 1 to 20. It would be very tedious if we had to write 100 lines of code which go like\n"
   ]
  },
  {
   "cell_type": "code",
   "execution_count": 143,
   "metadata": {},
   "outputs": [
    {
     "name": "stdout",
     "output_type": "stream",
     "text": [
      "3.1\n",
      "6.05\n",
      "9.033333333333333\n"
     ]
    }
   ],
   "source": [
    "print(myfunction(1))\n",
    "\n",
    "print(myfunction(2))\n",
    "\n",
    "print(myfunction(3))\n"
   ]
  },
  {
   "cell_type": "markdown",
   "metadata": {},
   "source": [
    "and so on.\n",
    "\n",
    "We can instead use a loop and have the program go through the loop 20 times. This can be done like this in Python:\n"
   ]
  },
  {
   "cell_type": "code",
   "execution_count": 144,
   "metadata": {},
   "outputs": [
    {
     "name": "stdout",
     "output_type": "stream",
     "text": [
      "3.1\n",
      "6.05\n",
      "9.033333333333333\n",
      "12.025\n",
      "15.02\n",
      "18.016666666666666\n",
      "21.014285714285716\n",
      "24.0125\n",
      "27.011111111111113\n",
      "30.01\n",
      "33.00909090909091\n",
      "36.00833333333333\n",
      "39.00769230769231\n",
      "42.00714285714286\n",
      "45.00666666666667\n",
      "48.00625\n",
      "51.00588235294118\n",
      "54.00555555555555\n",
      "57.00526315789474\n",
      "60.005\n"
     ]
    }
   ],
   "source": [
    "for i in range(1, 21):\n",
    "    print(myfunction(i))\n"
   ]
  },
  {
   "cell_type": "markdown",
   "metadata": {},
   "source": [
    "\"range(1, 21)\" is a fancy Python way of saying \"all numbers from 1 to 20\". Don't worry about that too much for now, we'll get to that later. The loop will do the thing inside the loop (\"print myfunction(i)\") for all given values of i, which is 1 to 20. Much shorter than having to write 20 lines of code.\n",
    "\n",
    "Now to the **choices**.\n",
    "\n",
    "Sometimes we want a program to do one thing in one case, and a different thing in another case. Basically all programming languages use a structure of the form \"if-then-else\" for that, meaning \"if this thing is true, then do that thing; else, do that other thing\".\n",
    "\n",
    "Here's an example. Say we have a number (let's say the program has asked the user to pick a number, so we don't know it beforehand). If that number is positive of 0, we want the program to give that same number as the output, without doing anything with it. If the number is negative, we want the program to give the positive version of the number as the output. Basically, this program will calculate the **absolute** of the input number.\n",
    "\n",
    "Let's do that as a function:\n",
    "\n"
   ]
  },
  {
   "cell_type": "code",
   "execution_count": 145,
   "metadata": {},
   "outputs": [],
   "source": [
    "def absolute(x):\n",
    "    if x>= 0:\n",
    "        y = x\n",
    "    else:\n",
    "        y = -x\n",
    "    return y\n"
   ]
  },
  {
   "cell_type": "markdown",
   "metadata": {},
   "source": [
    "So if we now want our new function to calculate the absolute of the number 5, the result should obviously be 5:\n"
   ]
  },
  {
   "cell_type": "code",
   "execution_count": 146,
   "metadata": {},
   "outputs": [
    {
     "name": "stdout",
     "output_type": "stream",
     "text": [
      "5\n"
     ]
    }
   ],
   "source": [
    "print(absolute(5))"
   ]
  },
  {
   "cell_type": "markdown",
   "metadata": {},
   "source": [
    "And it is. And for \"-10\" as input we expect the output \"10\":"
   ]
  },
  {
   "cell_type": "code",
   "execution_count": 147,
   "metadata": {
    "scrolled": true
   },
   "outputs": [
    {
     "name": "stdout",
     "output_type": "stream",
     "text": [
      "10\n"
     ]
    }
   ],
   "source": [
    "print(absolute(-10))"
   ]
  },
  {
   "cell_type": "markdown",
   "metadata": {},
   "source": [
    "## Exercises from Session 1"
   ]
  },
  {
   "cell_type": "markdown",
   "metadata": {},
   "source": [
    "**Exercise 1:** \n",
    "\n",
    "In a freshly opened python shell, what commands do you have to execute to\n",
    "\n",
    "1a) create an array that contains all integer numbers from 0 up to 20, including the number 20?\n",
    "\n",
    "1b) create an array that contains 13 values spread logarithmically between the values $10^2$ and $10^5$?\n",
    "\n",
    "1c) create an array that contains the number 3 100 times in a row?\n",
    "\n",
    "1d) create an array that contains the squares of the natural numbers from 1 to 10, i.e. contains the numbers 1, 4, 9, ..., 100?\n",
    "\n",
    "1e) print the second number from the array you created in 1d)?\n",
    "\n",
    "**Exercise 2:** \n",
    "\n",
    "Make one matplotlib plot that shows two mathematical functions, one being $f(x) = 0.5x^2$ and the other one being $g(x) = 3x-4$. Plot this for x values from 0 to 15. Choose different marker symbols, line styles, and line widths for the two funtions.  \n",
    "\n",
    "**Exercise 3**: \n",
    "\n",
    "Write a python function called \"sillyfunction\". This function shall take one number as input, and shall return the following output:\n",
    "\n",
    "- if the input number is negative: \"Booh!\"\n",
    "\n",
    "- if the input number is positive and a multiple of 7: \"I wish I was a cat.\"\n",
    "\n",
    "- if the input number is between 15 and 20 (including the borders): \"This is how many cakes I ate for breakfast.\"\n",
    "\n",
    "- if the input number is anything else: \"o_o\"\n",
    "\n",
    "This means that if I type \"sillyfunction(-4.3)\", I should get the output \"Booh!\" in the python shell.\n",
    "\n",
    "Hint: a built-in Python function to test if a number is a multiple of another number is the \"modulo\" function from the numpy package. It works like this: the result of np.mod(20, 5) is zero, because 20 is a multiple of 5. But the result of np.mod(22, 5) is 2, because dividing 22 by 5, using only integers, leaves the rest 2. This function can also be done with the % symbol.\n",
    "\n",
    "**Exercise 4**:\n",
    "\n",
    "Fibonacci numbers are a sequence of numbers that goes like this:\n",
    "\n",
    "1, 1, 2, 3, 5, 8, 13, 21, 34, ...\n",
    "\n",
    "As you can see, each number is the sum of the previous two numbers.\n",
    "\n",
    "1a) Write a Python function called \"fibonacci\" that calculates the correct Fibonacci number from the above sequence, given the position in the sequence. So, \"fibonacci(0)\" should give the result \"1\", \"fibonacci(5)\" should give the result \"8\", and so on.\n",
    "\n",
    "1b) Calculate the 50th Fibonacci number of that sequence.\n",
    "\n",
    "**Exercise 5**:\n",
    "\n",
    "Write a programme to test if a number $x$ is prime. You can input $x$ by using the input function. ```x=int(input('Enter your value of x:'))``` Once you've done that, think if your test could be made more efficient."
   ]
  },
  {
   "cell_type": "code",
   "execution_count": null,
   "metadata": {},
   "outputs": [],
   "source": []
  }
 ],
 "metadata": {
  "kernelspec": {
   "display_name": "Python 3",
   "language": "python",
   "name": "python3"
  },
  "language_info": {
   "codemirror_mode": {
    "name": "ipython",
    "version": 3
   },
   "file_extension": ".py",
   "mimetype": "text/x-python",
   "name": "python",
   "nbconvert_exporter": "python",
   "pygments_lexer": "ipython3",
   "version": "3.7.3"
  }
 },
 "nbformat": 4,
 "nbformat_minor": 1
}
