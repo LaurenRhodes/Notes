{
 "cells": [
  {
   "cell_type": "markdown",
   "metadata": {},
   "source": [
    "## MCS Python Physics 1: Radioactive Decay"
   ]
  },
  {
   "cell_type": "markdown",
   "metadata": {},
   "source": [
    "This is one of a few mini-projects for the python-physics course. In this problem we will find the percentage constituents of a sample, originally all Uranium-234, as it decays through various daughter reactions to Lead-206. The method used is a Monte Carlo approach, with little numerical analysis."
   ]
  },
  {
   "cell_type": "markdown",
   "metadata": {},
   "source": [
    "### Decay equations:"
   ]
  },
  {
   "cell_type": "markdown",
   "metadata": {},
   "source": [
    "Suppose that at time $t = 0$ we have a sample of $N$ atoms of substance 1. This substance is radioactive and decays to substance 2 which, in turn, decays to 3 which, in turn decays to 4. These decays will be governed by the differential equations:\n",
    "$$\n",
    "\\begin{array}{l}\n",
    "\\frac{\\mathrm{d} N_{1}}{\\mathrm{~d} t}=-\\lambda_{1} N_{1} \\\\\n",
    "\\frac{\\mathrm{d} N_{2}}{\\mathrm{~d} t}=\\lambda_{1} N_{1}-\\lambda_{2} N_{2} \\\\\n",
    "\\frac{\\mathrm{d} N_{3}}{\\mathrm{~d} t}=\\lambda_{2} N_{2}-\\lambda_{3} N_{3}\n",
    "\\end{array}\n",
    "$$\n",
    "The solutions to these equations have the form at time $t$:\n",
    "\n",
    "$$\n",
    "\\begin{array}{l}\n",
    "N_{1}(t)=A_{11} e^{-\\lambda_{1} t} \\\\\n",
    "N_{2}(t)=A_{21} e^{-\\lambda_{1} t}+A_{22} e^{-\\lambda_{2} t} \\\\\n",
    "N_{3}(t)=A_{31} e^{-\\lambda_{1} t}+A_{32} e^{-\\lambda_{2} t}+A_{33} e^{-\\lambda_{3} t} \\\\\n",
    "N_{4}(t)=N-\\left[N_{1}(t)+N_{2}(t)+N_{3}(t)\\right]\n",
    "\\end{array}\n",
    "$$\n",
    "\n",
    "Substituting these solutions into equations 1–3 gives the relation:\n",
    "\n",
    "$$\n",
    "A_{k,i} = A_{k-1,i} \\frac{\\lambda_{k-1}}{\\lambda_k-\\lambda_i}\n",
    "$$\n",
    "\n",
    "which, together with the initial condition equations:\n",
    "\n",
    "$$\n",
    "\\begin{array}{l}\n",
    "N=A_{11}\\\\\n",
    "0=A_{21}+A_{22}\\\\\n",
    "0=A_{31}+A_{32}+A_{33}\n",
    "\\end{array}\n",
    "$$\n",
    "\n",
    "gives the solution:\n",
    "$$\n",
    "\\begin{array}{l}\n",
    "N_{1}(t)=N e^{-\\lambda_{1} t} \\\\\n",
    "N_{2}(t)=N \\frac{\\lambda_{1}}{\\lambda_{2}-\\lambda_{1}}\\left[e^{-\\lambda_{1} t}-e^{-\\lambda_{2} t}\\right] \\\\\n",
    "N_{3}(t)=N \\lambda_{1} \\lambda_{2}\\left[\\frac{e^{-\\lambda_{1} t}}{\\left(\\lambda_{1}-\\lambda_{2}\\right)\\left(\\lambda_{1}-\\lambda_{3}\\right)}+\\frac{e^{-\\lambda_{2} t}}{\\left(\\lambda_{2}-\\lambda_{3}\\right)\\left(\\lambda_{2}-\\lambda_{1}\\right)}+\\frac{e^{-\\lambda_{3} t}}{\\left(\\lambda_{3}-\\lambda_{1}\\right)\\left(\\lambda_{3}-\\lambda_{2}\\right)}\\right] \\\\\n",
    "\\left.N_{4}(t)=N-\\left[N_{1} (t\\right)+N_{2}(t)+N_{3}(t)\\right]\n",
    "\\end{array}\n",
    "$$"
   ]
  },
  {
   "cell_type": "markdown",
   "metadata": {},
   "source": [
    "The radioactive chain to be considered is the following:\n",
    "\n",
    "$^{234}$U$\\rightarrow^{230}$Th - half life of $2.5 \\times 10^5$ years\n",
    "\n",
    "$^{230}$Th$\\rightarrow^{226}$Ra - half life of $8 \\times 10^4$ years\n",
    "\n",
    "$^{226}$Ra$\\rightarrow^{222}$Rn - half life of $1.62 \\times 10^3$ years\n",
    "\n",
    "$^{222}$Rn$\\rightarrow^{206}$Pb - half life of 4 days and $^{206}$Pb is stable."
   ]
  },
  {
   "cell_type": "markdown",
   "metadata": {},
   "source": [
    "The $\\lambda_i$ above are linked to half-life with the equation: $\\lambda_i = \\frac{\\ln(2)}{half-life}$\n",
    "\n",
    "It's assumed that all matter is initially $^{234}$U and the aim of the problem is to calculate the percentage of other substances to 500'000 years.\n",
    "\n",
    "### Simulation\n",
    "\n",
    "The method to be used is the Monte-Carlo method. Starting with N atoms of $^{234}$U, then, for each atom, decide if it is going to decay to the next member of the sequence. Consider a particular one of the $N$ atoms having decay constant λ (one of the $\\lambda_i$'s). In a time interval ∆t its probability of decay is λ∆t providing λ∆t $\\ll$ 1. So to decide whether a particular atom decays in the time ∆t we generate a\n",
    "random number in the range 0 to 1. If this number is less than λ∆t a decay occurs and not otherwise.\n",
    "This is done for all N atoms at each time step (unless they have reached the stable substance).\n",
    "Note that $^{222}$Rn has a very short half life and hence decays instantaneously in the time scale of this\n",
    "calculation. Additionally $^{226}$Ra has a short lifetime. Think about when the approximations might break down. You must decide on a useful value of the time\n",
    "interval ∆t which is short compared with the lifetime of $^{230}$Th but long enough to do the calculation reasonably quickly.\n"
   ]
  },
  {
   "cell_type": "markdown",
   "metadata": {},
   "source": [
    "Write a function that follows the template given below and write a program that calls the function which starts with N (e.g. 1000) atoms of $^{234}$U and follows the cascade to 500,000 years.\n",
    "\n",
    "#### Compare the numbers $N_1$, $N_2$, $N_3$ and $N_4$ of Uranium (U), Thorium (Th), Radium (Ra) and Lead (Pb), calculated using the Monte Carlo method to those calculated using the analytic equations.\n",
    "\n",
    "#### Plot the number of atoms of each type as a function of time and compare this to the analytic solution. Comment on the results and the accuracy of the method.\n",
    "\n",
    "Input variables:\n",
    " - init_pop: D element array of the inital population of each element\n",
    " - half_lives: (D-1) element array of the half lives of the decaying elements\n",
    " - t: N-element array of the time grid where the populations will be returned\n",
    "Output variables:\n",
    " - pop: (N x D) array that contains the population of each element in every time step"
   ]
  },
  {
   "cell_type": "markdown",
   "metadata": {},
   "source": [
    "```python\n",
    "def simulate_decay(init_pop, half_lives, t):\n",
    "    #simulate the decay cascade\n",
    "    #write your code here\n",
    "    return pop\n",
    "    \n",
    "#for example:\n",
    "init_pop=[1000,0,0,0]\n",
    "half_lives = [2.5e5, 8e4, 1.62e3, 4/365]\n",
    "t=np.linspace(0,1e6,1000)\n",
    "pop = simulate_decay(init_pop, half_lives, t)\n",
    "plt.plot(t,pop[:,0])\n",
    "plt.plot(t,pop[:,1])\n",
    "plt.plot(t,pop[:,2])\n",
    "plt.plot(t,pop[:,3])\n",
    "plt.show()\n",
    "```"
   ]
  }
 ],
 "metadata": {
  "kernelspec": {
   "display_name": "Python 3",
   "language": "python",
   "name": "python3"
  },
  "language_info": {
   "codemirror_mode": {
    "name": "ipython",
    "version": 3
   },
   "file_extension": ".py",
   "mimetype": "text/x-python",
   "name": "python",
   "nbconvert_exporter": "python",
   "pygments_lexer": "ipython3",
   "version": "3.7.3"
  }
 },
 "nbformat": 4,
 "nbformat_minor": 2
}
